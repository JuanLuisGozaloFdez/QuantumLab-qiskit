{
 "cells": [
  {
   "cell_type": "markdown",
   "id": "changing-thought",
   "metadata": {},
   "source": [
    "# Quantum Dice\n",
    "## Quantum-lab Example\n",
    "\n",
    "### Prerequisite tasks\n",
    "To set up this example, you must first have qiskit python library installed in your system (aprox. 1-2 minutes)"
   ]
  },
  {
   "cell_type": "code",
   "execution_count": 1,
   "id": "ec8229b1",
   "metadata": {},
   "outputs": [
    {
     "name": "stdout",
     "output_type": "stream",
     "text": [
      "Defaulting to user installation because normal site-packages is not writeable\n",
      "Requirement already satisfied: qiskit in c:\\users\\juanl\\appdata\\roaming\\python\\python38\\site-packages (0.36.2)\n",
      "Requirement already satisfied: pylatexenc in c:\\users\\juanl\\appdata\\roaming\\python\\python38\\site-packages (2.10)\n",
      "Requirement already satisfied: qiskit-terra==0.20.2 in c:\\users\\juanl\\appdata\\roaming\\python\\python38\\site-packages (from qiskit) (0.20.2)\n",
      "Requirement already satisfied: qiskit-ibmq-provider==0.19.1 in c:\\users\\juanl\\appdata\\roaming\\python\\python38\\site-packages (from qiskit) (0.19.1)\n",
      "Requirement already satisfied: qiskit-aer==0.10.4 in c:\\users\\juanl\\appdata\\roaming\\python\\python38\\site-packages (from qiskit) (0.10.4)\n",
      "Requirement already satisfied: qiskit-ignis==0.7.1 in c:\\users\\juanl\\appdata\\roaming\\python\\python38\\site-packages (from qiskit) (0.7.1)\n",
      "Requirement already satisfied: scipy>=1.0 in c:\\users\\juanl\\appdata\\roaming\\python\\python38\\site-packages (from qiskit-aer==0.10.4->qiskit) (1.8.1)\n",
      "Requirement already satisfied: numpy>=1.16.3 in c:\\users\\juanl\\appdata\\roaming\\python\\python38\\site-packages (from qiskit-aer==0.10.4->qiskit) (1.18.3)\n",
      "Requirement already satisfied: urllib3>=1.21.1 in c:\\users\\juanl\\appdata\\roaming\\python\\python38\\site-packages (from qiskit-ibmq-provider==0.19.1->qiskit) (1.26.4)\n",
      "Requirement already satisfied: websocket-client>=1.0.1 in c:\\users\\juanl\\appdata\\roaming\\python\\python38\\site-packages (from qiskit-ibmq-provider==0.19.1->qiskit) (1.3.2)\n",
      "Requirement already satisfied: websockets>=10.0 in c:\\users\\juanl\\appdata\\roaming\\python\\python38\\site-packages (from qiskit-ibmq-provider==0.19.1->qiskit) (10.3)\n",
      "Requirement already satisfied: python-dateutil>=2.8.0 in c:\\users\\juanl\\appdata\\roaming\\python\\python38\\site-packages (from qiskit-ibmq-provider==0.19.1->qiskit) (2.8.1)\n",
      "Requirement already satisfied: requests>=2.19 in c:\\users\\juanl\\appdata\\roaming\\python\\python38\\site-packages (from qiskit-ibmq-provider==0.19.1->qiskit) (2.25.1)\n",
      "Requirement already satisfied: requests-ntlm>=1.1.0 in c:\\users\\juanl\\appdata\\roaming\\python\\python38\\site-packages (from qiskit-ibmq-provider==0.19.1->qiskit) (1.1.0)\n",
      "Requirement already satisfied: retworkx>=0.8.0 in c:\\users\\juanl\\appdata\\roaming\\python\\python38\\site-packages (from qiskit-ignis==0.7.1->qiskit) (0.11.0)\n",
      "Requirement already satisfied: setuptools>=40.1.0 in c:\\program files (x86)\\python38-32\\lib\\site-packages (from qiskit-ignis==0.7.1->qiskit) (41.2.0)\n",
      "Requirement already satisfied: python-constraint>=1.4 in c:\\users\\juanl\\appdata\\roaming\\python\\python38\\site-packages (from qiskit-terra==0.20.2->qiskit) (1.4.0)\n",
      "Requirement already satisfied: ply>=3.10 in c:\\users\\juanl\\appdata\\roaming\\python\\python38\\site-packages (from qiskit-terra==0.20.2->qiskit) (3.11)\n",
      "Requirement already satisfied: dill>=0.3 in c:\\users\\juanl\\appdata\\roaming\\python\\python38\\site-packages (from qiskit-terra==0.20.2->qiskit) (0.3.5.1)\n",
      "Requirement already satisfied: tweedledum<2.0,>=1.1 in c:\\users\\juanl\\appdata\\roaming\\python\\python38\\site-packages (from qiskit-terra==0.20.2->qiskit) (1.1.1)\n",
      "Requirement already satisfied: sympy>=1.3 in c:\\users\\juanl\\appdata\\roaming\\python\\python38\\site-packages (from qiskit-terra==0.20.2->qiskit) (1.10.1)\n",
      "Requirement already satisfied: psutil>=5 in c:\\users\\juanl\\appdata\\roaming\\python\\python38\\site-packages (from qiskit-terra==0.20.2->qiskit) (5.9.1)\n",
      "Requirement already satisfied: stevedore>=3.0.0 in c:\\users\\juanl\\appdata\\roaming\\python\\python38\\site-packages (from qiskit-terra==0.20.2->qiskit) (3.5.0)\n",
      "Requirement already satisfied: six>=1.5 in c:\\users\\juanl\\appdata\\roaming\\python\\python38\\site-packages (from python-dateutil>=2.8.0->qiskit-ibmq-provider==0.19.1->qiskit) (1.14.0)\n",
      "Requirement already satisfied: certifi>=2017.4.17 in c:\\users\\juanl\\appdata\\roaming\\python\\python38\\site-packages (from requests>=2.19->qiskit-ibmq-provider==0.19.1->qiskit) (2020.12.5)\n",
      "Requirement already satisfied: idna<3,>=2.5 in c:\\users\\juanl\\appdata\\roaming\\python\\python38\\site-packages (from requests>=2.19->qiskit-ibmq-provider==0.19.1->qiskit) (2.10)\n",
      "Requirement already satisfied: chardet<5,>=3.0.2 in c:\\users\\juanl\\appdata\\roaming\\python\\python38\\site-packages (from requests>=2.19->qiskit-ibmq-provider==0.19.1->qiskit) (4.0.0)\n",
      "Requirement already satisfied: ntlm-auth>=1.0.2 in c:\\users\\juanl\\appdata\\roaming\\python\\python38\\site-packages (from requests-ntlm>=1.1.0->qiskit-ibmq-provider==0.19.1->qiskit) (1.5.0)\n",
      "Requirement already satisfied: cryptography>=1.3 in c:\\users\\juanl\\appdata\\roaming\\python\\python38\\site-packages (from requests-ntlm>=1.1.0->qiskit-ibmq-provider==0.19.1->qiskit) (3.4.6)\n",
      "Requirement already satisfied: pbr!=2.1.0,>=2.0.0 in c:\\users\\juanl\\appdata\\roaming\\python\\python38\\site-packages (from stevedore>=3.0.0->qiskit-terra==0.20.2->qiskit) (5.9.0)\n",
      "Requirement already satisfied: mpmath>=0.19 in c:\\users\\juanl\\appdata\\roaming\\python\\python38\\site-packages (from sympy>=1.3->qiskit-terra==0.20.2->qiskit) (1.2.1)\n",
      "Requirement already satisfied: cffi>=1.12 in c:\\users\\juanl\\appdata\\roaming\\python\\python38\\site-packages (from cryptography>=1.3->requests-ntlm>=1.1.0->qiskit-ibmq-provider==0.19.1->qiskit) (1.14.5)\n",
      "Requirement already satisfied: pycparser in c:\\users\\juanl\\appdata\\roaming\\python\\python38\\site-packages (from cffi>=1.12->cryptography>=1.3->requests-ntlm>=1.1.0->qiskit-ibmq-provider==0.19.1->qiskit) (2.20)\n",
      "Note: you may need to restart the kernel to use updated packages.\n"
     ]
    },
    {
     "name": "stderr",
     "output_type": "stream",
     "text": [
      "WARNING: You are using pip version 21.3.1; however, version 22.1.1 is available.\n",
      "You should consider upgrading via the 'C:\\Program Files (x86)\\Python38-32\\python.exe -m pip install --upgrade pip' command.\n"
     ]
    }
   ],
   "source": [
    "%pip install qiskit pylatexenc"
   ]
  },
  {
   "cell_type": "code",
   "execution_count": 2,
   "id": "strategic-essay",
   "metadata": {},
   "outputs": [],
   "source": [
    "from qiskit import *\n"
   ]
  },
  {
   "cell_type": "markdown",
   "id": "ca59481a",
   "metadata": {},
   "source": [
    "Se importa todo desde Qiskit, y el siguiente paso es construir un circuito cuántico. \n",
    "\n",
    "Para ejecutar un dado (del 0 al 6) representados del 000 al 111 necesitamos 3 qubits. Vamos a construir un circuito de tres qubits:\n"
   ]
  },
  {
   "cell_type": "code",
   "execution_count": 3,
   "id": "disturbed-petroleum",
   "metadata": {},
   "outputs": [],
   "source": [
    "qr = QuantumRegister(3, 'q')"
   ]
  },
  {
   "cell_type": "markdown",
   "id": "120870fe",
   "metadata": {},
   "source": [
    "Después se crearán tres registros clásicos para medir el valor de los bits cuánticos:"
   ]
  },
  {
   "cell_type": "code",
   "execution_count": 4,
   "id": "fb991783",
   "metadata": {},
   "outputs": [],
   "source": [
    "cr=ClassicalRegister(3,'c') "
   ]
  },
  {
   "cell_type": "markdown",
   "id": "d8926cda",
   "metadata": {},
   "source": [
    "El siguiente paso es construir un circuito que utilice los tres qubits con sus registros, y de esta forma, creamos un circuito cuántico:"
   ]
  },
  {
   "cell_type": "code",
   "execution_count": 5,
   "id": "b15a7a4f",
   "metadata": {},
   "outputs": [],
   "source": [
    "circuit = QuantumCircuit(qr,cr)"
   ]
  },
  {
   "cell_type": "markdown",
   "id": "58e83d96",
   "metadata": {},
   "source": [
    "Podemos visualizar el circuito con:\n",
    "\n"
   ]
  },
  {
   "cell_type": "code",
   "execution_count": 6,
   "id": "20835e4d",
   "metadata": {},
   "outputs": [
    {
     "data": {
      "text/html": [
       "<pre style=\"word-wrap: normal;white-space: pre;background: #fff0;line-height: 1.1;font-family: &quot;Courier New&quot;,Courier,monospace\">     \n",
       "q_0: \n",
       "     \n",
       "q_1: \n",
       "     \n",
       "q_2: \n",
       "     \n",
       "c: 3/\n",
       "     </pre>"
      ],
      "text/plain": [
       "     \n",
       "q_0: \n",
       "     \n",
       "q_1: \n",
       "     \n",
       "q_2: \n",
       "     \n",
       "c: 3/\n",
       "     "
      ]
     },
     "execution_count": 6,
     "metadata": {},
     "output_type": "execute_result"
    }
   ],
   "source": [
    "%matplotlib inline\n",
    "circuit.draw()"
   ]
  },
  {
   "cell_type": "markdown",
   "id": "bb14e46e",
   "metadata": {},
   "source": [
    "Ahora que ya tenemos el circuito con 3 qubits (q_0, q1_, q_2) y tres bits clásicos (c_0, c_1, c_2). \n",
    "\n",
    "Vamos a poner los tres qubits en estado de superposición aplicando una puerta Hadamard a cada uno"
   ]
  },
  {
   "cell_type": "code",
   "execution_count": 7,
   "id": "80226949",
   "metadata": {},
   "outputs": [
    {
     "data": {
      "image/png": "[encoded data removed]",
      "text/plain": [
       "<Figure size 146.797x264.88 with 1 Axes>"
      ]
     },
     "execution_count": 7,
     "metadata": {},
     "output_type": "execute_result"
    }
   ],
   "source": [
    "circuit.h(qr[0])\n",
    "circuit.h(qr[1])\n",
    "circuit.h(qr[2])\n",
    "circuit.draw(output=\"mpl\")"
   ]
  },
  {
   "cell_type": "markdown",
   "id": "41fcb11b",
   "metadata": {},
   "source": [
    "Ya tenemos preparado el dado para realizar la medición de la tirada, usando medidores:"
   ]
  },
  {
   "cell_type": "code",
   "execution_count": 8,
   "id": "f0185a71",
   "metadata": {},
   "outputs": [
    {
     "data": {
      "image/png": "[encoded data removed]",
      "text/plain": [
       "<Figure size 327.397x264.88 with 1 Axes>"
      ]
     },
     "execution_count": 8,
     "metadata": {},
     "output_type": "execute_result"
    }
   ],
   "source": [
    "circuit.measure(qr,cr)\n",
    "circuit.draw(output=\"mpl\")"
   ]
  },
  {
   "cell_type": "markdown",
   "id": "87a27ff6",
   "metadata": {},
   "source": [
    "Para hacer una simulación de este circuito en nuestro ordenador clásico, vamos a usar el componente de Qiskit “Aer”. Importamos desde “qiskit aer” el simulador QASM SIMULATOR."
   ]
  },
  {
   "cell_type": "code",
   "execution_count": 9,
   "id": "75c262cc",
   "metadata": {},
   "outputs": [],
   "source": [
    "simulator= Aer.get_backend('qasm_simulator')"
   ]
  },
  {
   "cell_type": "markdown",
   "id": "b780851e",
   "metadata": {},
   "source": [
    "Una vez importado, ejecutamos el circuito"
   ]
  },
  {
   "cell_type": "code",
   "execution_count": 10,
   "id": "cbac67c0",
   "metadata": {},
   "outputs": [],
   "source": [
    "#execute(circuit,backend= simulator)\n",
    "result= execute(circuit,backend=simulator).result()"
   ]
  },
  {
   "cell_type": "markdown",
   "id": "d4547f7b",
   "metadata": {},
   "source": [
    "Usaremos \"plot_histogram\" para ver los resultados"
   ]
  },
  {
   "cell_type": "code",
   "execution_count": 11,
   "id": "0072d548",
   "metadata": {},
   "outputs": [
    {
     "data": {
      "image/png": "[encoded data removed]",
      "text/plain": [
       "<Figure size 504x360 with 1 Axes>"
      ]
     },
     "execution_count": 11,
     "metadata": {},
     "output_type": "execute_result"
    }
   ],
   "source": [
    "from qiskit.tools.visualization import plot_histogram\n",
    "plot_histogram(result.get_counts(circuit))"
   ]
  },
  {
   "cell_type": "markdown",
   "id": "cb05fe1b",
   "metadata": {},
   "source": [
    "Se obtiene así el resultado del circuito cuántico en un simulador. \n",
    "\n",
    "Vemos que se consigue aproximadamente la misma de probabilidad (0.125) de obtener cualquiera de las 8 posibilidades (000 a 111).\n",
    "\n",
    "Lo normal es realizar 1024 disparos (ejecuciones) para obtener una media aproximada más ajustada y evitar los errores."
   ]
  }
 ],
 "metadata": {
  "kernelspec": {
   "display_name": "Python 3",
   "language": "python",
   "name": "python3"
  },
  "language_info": {
   "codemirror_mode": {
    "name": "ipython",
    "version": 3
   },
   "file_extension": ".py",
   "mimetype": "text/x-python",
   "name": "python",
   "nbconvert_exporter": "python",
   "pygments_lexer": "ipython3",
   "version": "3.8.2"
  }
 },
 "nbformat": 4,
 "nbformat_minor": 5
}
